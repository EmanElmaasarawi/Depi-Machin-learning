{
  "nbformat": 4,
  "nbformat_minor": 0,
  "metadata": {
    "colab": {
      "provenance": []
    },
    "kernelspec": {
      "name": "python3",
      "display_name": "Python 3"
    },
    "language_info": {
      "name": "python"
    }
  },
  "cells": [
    {
      "cell_type": "code",
      "source": [
        "import numpy as np"
      ],
      "metadata": {
        "id": "rKYLLuDUfGJW"
      },
      "execution_count": 28,
      "outputs": []
    },
    {
      "cell_type": "code",
      "source": [
        "arr1D = np.array([1 , 2 , 5 , 7 , 8]) # 1D Array"
      ],
      "metadata": {
        "id": "L0xse0A0fHDG"
      },
      "execution_count": 26,
      "outputs": []
    },
    {
      "cell_type": "code",
      "source": [
        "print(arr1D)"
      ],
      "metadata": {
        "colab": {
          "base_uri": "https://localhost:8080/"
        },
        "id": "J9nDtqoKfKWM",
        "outputId": "47331adc-a8bd-4aea-c086-6ea51174331d"
      },
      "execution_count": 25,
      "outputs": [
        {
          "output_type": "stream",
          "name": "stdout",
          "text": [
            "[1 2 5 7 8]\n"
          ]
        }
      ]
    },
    {
      "cell_type": "code",
      "source": [
        "arr2D = np.array([[1 , 2 , 3] , [4 , 5 , 6]]) # 2D Array"
      ],
      "metadata": {
        "id": "NO1SeBlqfQ2A"
      },
      "execution_count": 24,
      "outputs": []
    },
    {
      "cell_type": "code",
      "source": [
        "print(arr2D)"
      ],
      "metadata": {
        "colab": {
          "base_uri": "https://localhost:8080/"
        },
        "id": "25PQnzrtfT13",
        "outputId": "0145eb37-5bb7-4f2e-94bc-599bc3ebc389"
      },
      "execution_count": 23,
      "outputs": [
        {
          "output_type": "stream",
          "name": "stdout",
          "text": [
            "[[1 2 3]\n",
            " [4 5 6]]\n"
          ]
        }
      ]
    },
    {
      "cell_type": "code",
      "source": [
        "arr3D = np.array([[[1 , 2 , 3] , [4 , 5 , 6] , [7,  8 , 9]] , [[1 , 2 , 3] , [4 , 5 , 6] , [ 7, 9 , 10]]]) # 3D Array"
      ],
      "metadata": {
        "id": "zN5vQAtpfWAK"
      },
      "execution_count": 22,
      "outputs": []
    },
    {
      "cell_type": "code",
      "source": [
        "print(arr3D)"
      ],
      "metadata": {
        "colab": {
          "base_uri": "https://localhost:8080/"
        },
        "id": "x3Vyy13rfhqN",
        "outputId": "14b9e637-bf3b-40ef-bc09-eb88a23f3218"
      },
      "execution_count": 21,
      "outputs": [
        {
          "output_type": "stream",
          "name": "stdout",
          "text": [
            "[[[ 1  2  3]\n",
            "  [ 4  5  6]\n",
            "  [ 7  8  9]]\n",
            "\n",
            " [[ 1  2  3]\n",
            "  [ 4  5  6]\n",
            "  [ 7  9 10]]]\n"
          ]
        }
      ]
    },
    {
      "cell_type": "code",
      "source": [
        "print(arr3D.shape) #Get array dimension."
      ],
      "metadata": {
        "colab": {
          "base_uri": "https://localhost:8080/"
        },
        "id": "oCcI56kjfijx",
        "outputId": "c4b836f0-5a8a-449e-92e4-4e1b9efe3252"
      },
      "execution_count": 20,
      "outputs": [
        {
          "output_type": "stream",
          "name": "stdout",
          "text": [
            "(2, 3, 3)\n"
          ]
        }
      ]
    },
    {
      "cell_type": "code",
      "source": [
        "arr4D = np.array([[[[1 , 2 , 3] , [5 , 6 , 7]]] , [[[5 , 6 , 7] , [9 , 10 , 11]]]]) # 4D Array"
      ],
      "metadata": {
        "id": "ctzlSI3Mfk5Y"
      },
      "execution_count": 19,
      "outputs": []
    },
    {
      "cell_type": "code",
      "source": [
        "print(arr4D)"
      ],
      "metadata": {
        "colab": {
          "base_uri": "https://localhost:8080/"
        },
        "id": "IEnTMJS8fnhG",
        "outputId": "6b01e17d-62e4-41c2-db84-73de1f8e246f"
      },
      "execution_count": 18,
      "outputs": [
        {
          "output_type": "stream",
          "name": "stdout",
          "text": [
            "[[[[ 1  2  3]\n",
            "   [ 5  6  7]]]\n",
            "\n",
            "\n",
            " [[[ 5  6  7]\n",
            "   [ 9 10 11]]]]\n"
          ]
        }
      ]
    },
    {
      "cell_type": "code",
      "source": [
        "print(arr4D.shape) #Get array dimension."
      ],
      "metadata": {
        "colab": {
          "base_uri": "https://localhost:8080/"
        },
        "id": "W62MYlmEfpvr",
        "outputId": "c72274b7-95df-46d5-a46b-c5c2c3955a9f"
      },
      "execution_count": 17,
      "outputs": [
        {
          "output_type": "stream",
          "name": "stdout",
          "text": [
            "(2, 1, 2, 3)\n"
          ]
        }
      ]
    },
    {
      "cell_type": "code",
      "source": [
        "arr0s = np.zeros((3,3,3) , dtype=int)#return 3DArray of Zeros with type int because default is float"
      ],
      "metadata": {
        "id": "K58-kD_Gfr7A"
      },
      "execution_count": 16,
      "outputs": []
    },
    {
      "cell_type": "code",
      "source": [
        "print(arr0s)"
      ],
      "metadata": {
        "colab": {
          "base_uri": "https://localhost:8080/"
        },
        "id": "dtVuIJxpfuO2",
        "outputId": "05e16bf3-3001-4df2-9882-b5606187a543"
      },
      "execution_count": 15,
      "outputs": [
        {
          "output_type": "stream",
          "name": "stdout",
          "text": [
            "[[[0 0 0]\n",
            "  [0 0 0]\n",
            "  [0 0 0]]\n",
            "\n",
            " [[0 0 0]\n",
            "  [0 0 0]\n",
            "  [0 0 0]]\n",
            "\n",
            " [[0 0 0]\n",
            "  [0 0 0]\n",
            "  [0 0 0]]]\n"
          ]
        }
      ]
    },
    {
      "cell_type": "code",
      "source": [
        "arr1s = np.ones((3,3) , dtype=int)#return 2DArray of Ones with type int because default is float"
      ],
      "metadata": {
        "id": "bDJ8JxXWfw2T"
      },
      "execution_count": 14,
      "outputs": []
    },
    {
      "cell_type": "code",
      "source": [
        "print(arr1s)"
      ],
      "metadata": {
        "colab": {
          "base_uri": "https://localhost:8080/"
        },
        "id": "93SUlvpsfzMa",
        "outputId": "ed9e0fee-96fb-4414-d6d0-5ba1ce7b1953"
      },
      "execution_count": 13,
      "outputs": [
        {
          "output_type": "stream",
          "name": "stdout",
          "text": [
            "[[1 1 1]\n",
            " [1 1 1]\n",
            " [1 1 1]]\n"
          ]
        }
      ]
    },
    {
      "cell_type": "code",
      "source": [
        "arrRange = np.arange(10) #1D Array with range from 0-9"
      ],
      "metadata": {
        "id": "eeAPREsHf11s"
      },
      "execution_count": 12,
      "outputs": []
    },
    {
      "cell_type": "code",
      "source": [
        "print(arrRange)"
      ],
      "metadata": {
        "colab": {
          "base_uri": "https://localhost:8080/"
        },
        "id": "ECsm8YDUf52S",
        "outputId": "18b8421e-2fbc-44ab-9c6c-99dd95590c05"
      },
      "execution_count": 11,
      "outputs": [
        {
          "output_type": "stream",
          "name": "stdout",
          "text": [
            "[0 1 2 3 4 5 6 7 8 9]\n"
          ]
        }
      ]
    },
    {
      "cell_type": "code",
      "source": [
        "arrWithCount = np.linspace(0 , 10 , 30) #return 1DArray range from 0-10 with count 30 element"
      ],
      "metadata": {
        "id": "qpIzV9QYf8Go"
      },
      "execution_count": 10,
      "outputs": []
    },
    {
      "cell_type": "code",
      "source": [
        "print(arrWithCount)"
      ],
      "metadata": {
        "colab": {
          "base_uri": "https://localhost:8080/"
        },
        "id": "jDNj9BFjgDv-",
        "outputId": "9c8a3388-2b6f-4ebf-8b80-5100cb08587c"
      },
      "execution_count": 9,
      "outputs": [
        {
          "output_type": "stream",
          "name": "stdout",
          "text": [
            "[ 0.          0.34482759  0.68965517  1.03448276  1.37931034  1.72413793\n",
            "  2.06896552  2.4137931   2.75862069  3.10344828  3.44827586  3.79310345\n",
            "  4.13793103  4.48275862  4.82758621  5.17241379  5.51724138  5.86206897\n",
            "  6.20689655  6.55172414  6.89655172  7.24137931  7.5862069   7.93103448\n",
            "  8.27586207  8.62068966  8.96551724  9.31034483  9.65517241 10.        ]\n"
          ]
        }
      ]
    },
    {
      "cell_type": "code",
      "source": [
        "arrRandom = np.random.rand(3,3,2) #Return 3DArray with 3rows and 2column"
      ],
      "metadata": {
        "id": "uMk0f9Z1gGTV"
      },
      "execution_count": 8,
      "outputs": []
    },
    {
      "cell_type": "code",
      "source": [
        "print(arrRandom)"
      ],
      "metadata": {
        "colab": {
          "base_uri": "https://localhost:8080/"
        },
        "id": "1uUid7hhgKkK",
        "outputId": "8b0b7289-e9a0-4c5c-f20b-8273d2006003"
      },
      "execution_count": 7,
      "outputs": [
        {
          "output_type": "stream",
          "name": "stdout",
          "text": [
            "[[[0.39082349 0.3200437 ]\n",
            "  [0.57397873 0.34406694]\n",
            "  [0.08462491 0.0338331 ]]\n",
            "\n",
            " [[0.53296917 0.01048985]\n",
            "  [0.30546301 0.51131314]\n",
            "  [0.25400538 0.64220699]]\n",
            "\n",
            " [[0.01192455 0.23628958]\n",
            "  [0.38863988 0.2864922 ]\n",
            "  [0.35707852 0.32961436]]]\n"
          ]
        }
      ]
    }
  ]
}