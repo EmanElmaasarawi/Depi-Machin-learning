import numpy as np
arr1D = np.array([1 , 2 , 5 , 7 , 8]) # 1D Array
print(arr1D)
arr2D = np.array([[1 , 2 , 3] , [4 , 5 , 6]]) # 2D Array
print(arr2D)
arr3D = np.array([[[1 , 2 , 3] , [4 , 5 , 6] , [7,  8 , 9]] , [[1 , 2 , 3] , [4 , 5 , 6] , [ 7, 9 , 10]]]) # 3D Array
print(arr3D)
print(arr3D.shape) #Get array dimension.
arr4D = np.array([[[[1 , 2 , 3] , [5 , 6 , 7]]] , [[[5 , 6 , 7] , [9 , 10 , 11]]]]) # 4D Array
print(arr4D)
print(arr4D.shape) #Get array dimension.
arr0s = np.zeros((3,3,3) , dtype=int)#return 3DArray of Zeros with type int because default is float
print(arr0s)
arr1s = np.ones((3,3) , dtype=int)#return 2DArray of Ones with type int because default is float
print(arr1s)
arrRange = np.arange(10) #1D Array with range from 0-9
print(arrRange)
arrWithCount = np.linspace(0 , 10 , 30) #return 1DArray range from 0-10 with count 30 element
print(arrWithCount)
arrRandom = np.random.rand(3,3,2) #Return 3DArray with 3rows and 2column
print(arrRandom)
